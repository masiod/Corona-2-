{
 "cells": [
  {
   "cell_type": "code",
   "execution_count": 2,
   "id": "f559f675",
   "metadata": {},
   "outputs": [],
   "source": [
    "import pandas as pd \n",
    "import numpy as np\n",
    "from matplotlib.pyplot import plot"
   ]
  },
  {
   "cell_type": "code",
   "execution_count": 3,
   "id": "c34fbff6",
   "metadata": {},
   "outputs": [],
   "source": [
    "covid_19 =pd.read_csv('./covid-19.csv')"
   ]
  },
  {
   "cell_type": "code",
   "execution_count": 4,
   "id": "3654d14e",
   "metadata": {},
   "outputs": [
    {
     "name": "stdout",
     "output_type": "stream",
     "text": [
      "           date      cases   deaths\n",
      "0     1/21/2020          1        0\n",
      "1     1/22/2020          1        0\n",
      "2     1/23/2020          1        0\n",
      "3     1/24/2020          2        0\n",
      "4     1/25/2020          3        0\n",
      "...         ...        ...      ...\n",
      "1153  3/19/2023  103784916  1133826\n",
      "1154  3/20/2023  103794703  1133964\n",
      "1155  3/21/2023  103813076  1134177\n",
      "1156  3/22/2023  103864888  1134913\n",
      "1157  3/23/2023  103910034  1135343\n",
      "\n",
      "[1158 rows x 3 columns]\n"
     ]
    }
   ],
   "source": [
    "print(covid_19)"
   ]
  },
  {
   "cell_type": "code",
   "execution_count": 5,
   "id": "4baac435",
   "metadata": {},
   "outputs": [
    {
     "data": {
      "text/plain": [
       "(1158, 3)"
      ]
     },
     "execution_count": 5,
     "metadata": {},
     "output_type": "execute_result"
    }
   ],
   "source": [
    "covid_19.shape"
   ]
  },
  {
   "cell_type": "code",
   "execution_count": 6,
   "id": "9ed8e3c1",
   "metadata": {},
   "outputs": [
    {
     "data": {
      "text/html": [
       "<div>\n",
       "<style scoped>\n",
       "    .dataframe tbody tr th:only-of-type {\n",
       "        vertical-align: middle;\n",
       "    }\n",
       "\n",
       "    .dataframe tbody tr th {\n",
       "        vertical-align: top;\n",
       "    }\n",
       "\n",
       "    .dataframe thead th {\n",
       "        text-align: right;\n",
       "    }\n",
       "</style>\n",
       "<table border=\"1\" class=\"dataframe\">\n",
       "  <thead>\n",
       "    <tr style=\"text-align: right;\">\n",
       "      <th></th>\n",
       "      <th>date</th>\n",
       "      <th>cases</th>\n",
       "      <th>deaths</th>\n",
       "    </tr>\n",
       "  </thead>\n",
       "  <tbody>\n",
       "    <tr>\n",
       "      <th>0</th>\n",
       "      <td>1/21/2020</td>\n",
       "      <td>1</td>\n",
       "      <td>0</td>\n",
       "    </tr>\n",
       "    <tr>\n",
       "      <th>1</th>\n",
       "      <td>1/22/2020</td>\n",
       "      <td>1</td>\n",
       "      <td>0</td>\n",
       "    </tr>\n",
       "    <tr>\n",
       "      <th>2</th>\n",
       "      <td>1/23/2020</td>\n",
       "      <td>1</td>\n",
       "      <td>0</td>\n",
       "    </tr>\n",
       "    <tr>\n",
       "      <th>3</th>\n",
       "      <td>1/24/2020</td>\n",
       "      <td>2</td>\n",
       "      <td>0</td>\n",
       "    </tr>\n",
       "    <tr>\n",
       "      <th>4</th>\n",
       "      <td>1/25/2020</td>\n",
       "      <td>3</td>\n",
       "      <td>0</td>\n",
       "    </tr>\n",
       "  </tbody>\n",
       "</table>\n",
       "</div>"
      ],
      "text/plain": [
       "        date  cases  deaths\n",
       "0  1/21/2020      1       0\n",
       "1  1/22/2020      1       0\n",
       "2  1/23/2020      1       0\n",
       "3  1/24/2020      2       0\n",
       "4  1/25/2020      3       0"
      ]
     },
     "execution_count": 6,
     "metadata": {},
     "output_type": "execute_result"
    }
   ],
   "source": [
    "covid_19.head()"
   ]
  },
  {
   "cell_type": "code",
   "execution_count": 7,
   "id": "852f5f33",
   "metadata": {},
   "outputs": [],
   "source": [
    "covid_19['day']=covid_19.date.str[0:1]\n",
    "covid_19['month']=covid_19.date.str[2:4]\n",
    "covid_19['year']=covid_19.date.str[5:]"
   ]
  },
  {
   "cell_type": "code",
   "execution_count": 8,
   "id": "f52958e1",
   "metadata": {},
   "outputs": [
    {
     "name": "stdout",
     "output_type": "stream",
     "text": [
      "        date  cases  deaths day month  year\n",
      "0  1/21/2020      1       0   1    21  2020\n",
      "1  1/22/2020      1       0   1    22  2020\n",
      "2  1/23/2020      1       0   1    23  2020\n",
      "3  1/24/2020      2       0   1    24  2020\n",
      "4  1/25/2020      3       0   1    25  2020\n"
     ]
    }
   ],
   "source": [
    "print(covid_19.head())"
   ]
  },
  {
   "cell_type": "code",
   "execution_count": 9,
   "id": "12418c9c",
   "metadata": {},
   "outputs": [],
   "source": [
    "covid_19.year=covid_19.year.replace(['/'],'',regex=True)"
   ]
  },
  {
   "cell_type": "code",
   "execution_count": 21,
   "id": "7353a5e0",
   "metadata": {},
   "outputs": [],
   "source": [
    "covid_19.year=covid_19.year.replace(['^020'],2020,regex=True)\n",
    "covid_19.year=covid_19.year.replace(['^021'],2021,regex=True)\n",
    "covid_19.year=covid_19.year.replace(['^022'],2022,regex=True)\n",
    "covid_19.year=covid_19.year.replace(['^023'],2023,regex=True)"
   ]
  },
  {
   "cell_type": "code",
   "execution_count": 11,
   "id": "9db6be27",
   "metadata": {},
   "outputs": [
    {
     "name": "stdout",
     "output_type": "stream",
     "text": [
      "0       2020\n",
      "1       2020\n",
      "2       2020\n",
      "3       2020\n",
      "4       2020\n",
      "        ... \n",
      "1153    2023\n",
      "1154    2023\n",
      "1155    2023\n",
      "1156    2023\n",
      "1157    2023\n",
      "Name: year, Length: 1158, dtype: object\n"
     ]
    }
   ],
   "source": [
    "new_data=covid_19[['year','cases','deaths']]\n",
    "print(covid_19.year)"
   ]
  },
  {
   "cell_type": "code",
   "execution_count": 24,
   "id": "9258051e",
   "metadata": {},
   "outputs": [
    {
     "data": {
      "text/html": [
       "<div>\n",
       "<style scoped>\n",
       "    .dataframe tbody tr th:only-of-type {\n",
       "        vertical-align: middle;\n",
       "    }\n",
       "\n",
       "    .dataframe tbody tr th {\n",
       "        vertical-align: top;\n",
       "    }\n",
       "\n",
       "    .dataframe thead th {\n",
       "        text-align: right;\n",
       "    }\n",
       "</style>\n",
       "<table border=\"1\" class=\"dataframe\">\n",
       "  <thead>\n",
       "    <tr style=\"text-align: right;\">\n",
       "      <th></th>\n",
       "      <th>cases</th>\n",
       "      <th>deaths</th>\n",
       "    </tr>\n",
       "    <tr>\n",
       "      <th>year</th>\n",
       "      <th></th>\n",
       "      <th></th>\n",
       "    </tr>\n",
       "  </thead>\n",
       "  <tbody>\n",
       "    <tr>\n",
       "      <th>2020</th>\n",
       "      <td>1727289223</td>\n",
       "      <td>46413867</td>\n",
       "    </tr>\n",
       "    <tr>\n",
       "      <th>2021</th>\n",
       "      <td>13229129856</td>\n",
       "      <td>223987036</td>\n",
       "    </tr>\n",
       "    <tr>\n",
       "      <th>2022</th>\n",
       "      <td>31760084178</td>\n",
       "      <td>367427258</td>\n",
       "    </tr>\n",
       "    <tr>\n",
       "      <th>2023</th>\n",
       "      <td>8401350915</td>\n",
       "      <td>91790838</td>\n",
       "    </tr>\n",
       "  </tbody>\n",
       "</table>\n",
       "</div>"
      ],
      "text/plain": [
       "            cases     deaths\n",
       "year                        \n",
       "2020   1727289223   46413867\n",
       "2021  13229129856  223987036\n",
       "2022  31760084178  367427258\n",
       "2023   8401350915   91790838"
      ]
     },
     "execution_count": 24,
     "metadata": {},
     "output_type": "execute_result"
    }
   ],
   "source": [
    "covid_19.groupby('year').sum()"
   ]
  }
 ],
 "metadata": {
  "kernelspec": {
   "display_name": "Python 3 (ipykernel)",
   "language": "python",
   "name": "python3"
  },
  "language_info": {
   "codemirror_mode": {
    "name": "ipython",
    "version": 3
   },
   "file_extension": ".py",
   "mimetype": "text/x-python",
   "name": "python",
   "nbconvert_exporter": "python",
   "pygments_lexer": "ipython3",
   "version": "3.9.13"
  }
 },
 "nbformat": 4,
 "nbformat_minor": 5
}
